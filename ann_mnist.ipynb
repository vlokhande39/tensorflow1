{
  "nbformat": 4,
  "nbformat_minor": 0,
  "metadata": {
    "colab": {
      "provenance": [],
      "authorship_tag": "ABX9TyOBtx9wb4arh1nueF+CPr/A",
      "include_colab_link": true
    },
    "kernelspec": {
      "name": "python3",
      "display_name": "Python 3"
    },
    "language_info": {
      "name": "python"
    }
  },
  "cells": [
    {
      "cell_type": "markdown",
      "metadata": {
        "id": "view-in-github",
        "colab_type": "text"
      },
      "source": [
        "<a href=\"https://colab.research.google.com/github/vlokhande39/tensorflow1/blob/main/ann_mnist.ipynb\" target=\"_parent\"><img src=\"https://colab.research.google.com/assets/colab-badge.svg\" alt=\"Open In Colab\"/></a>"
      ]
    },
    {
      "cell_type": "markdown",
      "source": [
        "loading the requirements library\n"
      ],
      "metadata": {
        "id": "kaH1P7F13elK"
      }
    },
    {
      "cell_type": "code",
      "execution_count": null,
      "metadata": {
        "id": "ustNlYwarztf"
      },
      "outputs": [],
      "source": [
        "import tensorflow as tf\n",
        "from tensorflow.keras.datasets import mnist\n",
        "from tensorflow.keras import layers\n",
        "from tensorflow import keras"
      ]
    },
    {
      "cell_type": "markdown",
      "source": [
        "loading the datasets which is availabe in mnist dataset\n",
        "it is dataset 0-9 numbers in writed\n",
        "also divide the datasets into train and test\n"
      ],
      "metadata": {
        "id": "ymTjyCe-3I31"
      }
    },
    {
      "cell_type": "code",
      "source": [
        "(x_train, y_train),(x_test, y_test) = mnist.load_data()\n",
        "print(x_train.shape)\n",
        "print(y_train.shape)"
      ],
      "metadata": {
        "colab": {
          "base_uri": "https://localhost:8080/"
        },
        "id": "UlS8-E8fsvM9",
        "outputId": "a721313a-7e4b-40de-fad3-dc3db5fa9655"
      },
      "execution_count": null,
      "outputs": [
        {
          "output_type": "stream",
          "name": "stdout",
          "text": [
            "(60000, 28, 28)\n",
            "(60000,)\n"
          ]
        }
      ]
    },
    {
      "cell_type": "markdown",
      "source": [
        "reshaping the value in one d array\n"
      ],
      "metadata": {
        "id": "FgcTozoS3mJp"
      }
    },
    {
      "cell_type": "code",
      "source": [
        "x_train = x_train.reshape(-1,784).astype(\"float32\")/255.0 #reshaping the value in one dimenstion, -1 indicating all values in first dim, and 784 = 28*28\n",
        "x_test = x_test.reshape(-1,784).astype('float32')/255.0"
      ],
      "metadata": {
        "id": "mudzzBURsvSc"
      },
      "execution_count": null,
      "outputs": []
    },
    {
      "cell_type": "code",
      "source": [
        "#sequential api(very convenient, not very flexible)\n",
        "model = keras.Sequential(\n",
        "    [\n",
        "        keras.Input(shape = (28*28)),\n",
        "        layers.Dense(512,activation= 'relu'),\n",
        "        layers.Dense(256, activation = 'relu'),\n",
        "        layers.Dense(10),\n",
        "    ]\n",
        ")"
      ],
      "metadata": {
        "id": "N2ENaxPVsvW2"
      },
      "execution_count": null,
      "outputs": []
    },
    {
      "cell_type": "code",
      "source": [
        "print(model.summary())"
      ],
      "metadata": {
        "colab": {
          "base_uri": "https://localhost:8080/"
        },
        "id": "npfbmXA74ih-",
        "outputId": "20a41ad0-5433-45e0-d7cf-5824176721e1"
      },
      "execution_count": null,
      "outputs": [
        {
          "output_type": "stream",
          "name": "stdout",
          "text": [
            "Model: \"sequential_1\"\n",
            "_________________________________________________________________\n",
            " Layer (type)                Output Shape              Param #   \n",
            "=================================================================\n",
            " dense_3 (Dense)             (None, 512)               401920    \n",
            "                                                                 \n",
            " dense_4 (Dense)             (None, 256)               131328    \n",
            "                                                                 \n",
            " dense_5 (Dense)             (None, 10)                2570      \n",
            "                                                                 \n",
            "=================================================================\n",
            "Total params: 535,818\n",
            "Trainable params: 535,818\n",
            "Non-trainable params: 0\n",
            "_________________________________________________________________\n",
            "None\n"
          ]
        }
      ]
    },
    {
      "cell_type": "code",
      "source": [
        "model.compile(\n",
        "    loss = keras.losses.SparseCategoricalCrossentropy(from_logits=True),\n",
        "    optimizer = keras.optimizers.Adam(lr = 0.001),\n",
        "    metrics = [\"accuracy\"],\n",
        ")"
      ],
      "metadata": {
        "colab": {
          "base_uri": "https://localhost:8080/"
        },
        "id": "5dNwqSDW4dnB",
        "outputId": "8b116ce3-70a3-4de0-f1f1-4aee97ce7e2e"
      },
      "execution_count": null,
      "outputs": [
        {
          "output_type": "stream",
          "name": "stderr",
          "text": [
            "/usr/local/lib/python3.7/dist-packages/keras/optimizer_v2/adam.py:105: UserWarning: The `lr` argument is deprecated, use `learning_rate` instead.\n",
            "  super(Adam, self).__init__(name, **kwargs)\n"
          ]
        }
      ]
    },
    {
      "cell_type": "code",
      "source": [
        "model.fit(x_train, y_train, batch_size=32, epochs=5, verbose=2)\n",
        "model.evaluate(x_test, y_test, batch_size=32, verbose=2)"
      ],
      "metadata": {
        "colab": {
          "base_uri": "https://localhost:8080/"
        },
        "id": "srYlbkrP4fWo",
        "outputId": "cd70fa28-a479-4c05-cfdc-6a6367f9ee11"
      },
      "execution_count": null,
      "outputs": [
        {
          "output_type": "stream",
          "name": "stdout",
          "text": [
            "Epoch 1/5\n"
          ]
        },
        {
          "output_type": "stream",
          "name": "stderr",
          "text": [
            "/usr/local/lib/python3.7/dist-packages/tensorflow/python/util/dispatch.py:1082: UserWarning: \"`sparse_categorical_crossentropy` received `from_logits=True`, but the `output` argument was produced by a sigmoid or softmax activation and thus does not represent logits. Was this intended?\"\n",
            "  return dispatch_target(*args, **kwargs)\n"
          ]
        },
        {
          "output_type": "stream",
          "name": "stdout",
          "text": [
            "1875/1875 - 11s - loss: 0.1833 - accuracy: 0.9445 - 11s/epoch - 6ms/step\n",
            "Epoch 2/5\n",
            "1875/1875 - 11s - loss: 0.0802 - accuracy: 0.9752 - 11s/epoch - 6ms/step\n",
            "Epoch 3/5\n",
            "1875/1875 - 11s - loss: 0.0546 - accuracy: 0.9821 - 11s/epoch - 6ms/step\n",
            "Epoch 4/5\n",
            "1875/1875 - 10s - loss: 0.0402 - accuracy: 0.9871 - 10s/epoch - 6ms/step\n",
            "Epoch 5/5\n",
            "1875/1875 - 10s - loss: 0.0337 - accuracy: 0.9891 - 10s/epoch - 6ms/step\n",
            "313/313 - 1s - loss: 0.0876 - accuracy: 0.9776 - 879ms/epoch - 3ms/step\n"
          ]
        },
        {
          "output_type": "execute_result",
          "data": {
            "text/plain": [
              "[0.08764402568340302, 0.9775999784469604]"
            ]
          },
          "metadata": {},
          "execution_count": 30
        }
      ]
    },
    {
      "cell_type": "code",
      "source": [
        "#other way to define model\n",
        "\"\"\"model = keras.Sequential()\n",
        "model.add(layers.Input(shape=(784)))\n",
        "model.add(layers.Dense(512, activation='relu'))\n",
        "print(model.summary())\n",
        "model.add(layers.Dense(256, activation='relu'))\n",
        "model.add(layers.Dense(19))\n",
        "\"\"\""
      ],
      "metadata": {
        "id": "LVZVTE3JsvbF"
      },
      "execution_count": null,
      "outputs": []
    },
    {
      "cell_type": "code",
      "source": [
        "#functional API(a bit more flexible)\n",
        "\"\"\"inputs = keras.Input(shape=(784))\n",
        "x = layers.Dense(512, activation = 'relu', name=\"first_layer\")(inputs)\n",
        "x = layers.Dense(256, activation='relu', name =\"second_layer\")(x)\n",
        "outputs = layers.Dense(10, activation='softmax')(x)\n",
        "model = keras.Model(inputs= inputs, outputs = outputs)\n",
        "model.compile(\n",
        "    loss = keras.losses.SparseCategoricalCrossentropy(from_logits=True),\n",
        "    optimizer = keras.optimizers.Adam(lr = 0.001),\n",
        "    metrics = [\"accuracy\"],\n",
        ")\"\"\""
      ],
      "metadata": {
        "colab": {
          "base_uri": "https://localhost:8080/"
        },
        "id": "2cZpyeqZsvfm",
        "outputId": "1b539fda-03fd-4f87-8be2-dc5e8db94029"
      },
      "execution_count": null,
      "outputs": [
        {
          "output_type": "stream",
          "name": "stderr",
          "text": [
            "/usr/local/lib/python3.7/dist-packages/keras/optimizer_v2/adam.py:105: UserWarning: The `lr` argument is deprecated, use `learning_rate` instead.\n",
            "  super(Adam, self).__init__(name, **kwargs)\n"
          ]
        }
      ]
    },
    {
      "cell_type": "code",
      "source": [],
      "metadata": {
        "id": "DUMoseG8svjd"
      },
      "execution_count": null,
      "outputs": []
    },
    {
      "cell_type": "code",
      "source": [],
      "metadata": {
        "id": "NdaZ-gEtsvnh"
      },
      "execution_count": null,
      "outputs": []
    },
    {
      "cell_type": "code",
      "source": [],
      "metadata": {
        "id": "BAwvm70lsvrV"
      },
      "execution_count": null,
      "outputs": []
    }
  ]
}