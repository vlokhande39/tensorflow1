{
  "nbformat": 4,
  "nbformat_minor": 0,
  "metadata": {
    "colab": {
      "provenance": [],
      "authorship_tag": "ABX9TyO4CFYKxOcE036rAb1kAckL",
      "include_colab_link": true
    },
    "kernelspec": {
      "name": "python3",
      "display_name": "Python 3"
    },
    "language_info": {
      "name": "python"
    }
  },
  "cells": [
    {
      "cell_type": "markdown",
      "metadata": {
        "id": "view-in-github",
        "colab_type": "text"
      },
      "source": [
        "<a href=\"https://colab.research.google.com/github/vlokhande39/tensorflow1/blob/main/basic_tensors_operations.ipynb\" target=\"_parent\"><img src=\"https://colab.research.google.com/assets/colab-badge.svg\" alt=\"Open In Colab\"/></a>"
      ]
    },
    {
      "cell_type": "code",
      "source": [],
      "metadata": {
        "id": "2HLnegrINZqW"
      },
      "execution_count": null,
      "outputs": []
    },
    {
      "cell_type": "markdown",
      "source": [
        "Basic Tensors operations\n",
        "-tensor is a n dimensional array of data"
      ],
      "metadata": {
        "id": "s7e5pyWW_D02"
      }
    },
    {
      "cell_type": "code",
      "source": [
        "import tensorflow as tf"
      ],
      "metadata": {
        "id": "h45Ickju_E5Y"
      },
      "execution_count": null,
      "outputs": []
    },
    {
      "cell_type": "code",
      "execution_count": null,
      "metadata": {
        "colab": {
          "base_uri": "https://localhost:8080/"
        },
        "id": "RhF8qWF4-9_L",
        "outputId": "81ba8ab9-8b25-41a8-dc97-8bab03f12802"
      },
      "outputs": [
        {
          "output_type": "stream",
          "name": "stdout",
          "text": [
            "tf.Tensor(4, shape=(), dtype=int32)\n",
            "tf.Tensor([[4.]], shape=(1, 1), dtype=float32)\n",
            "tf.Tensor([[4.]], shape=(1, 1), dtype=float32)\n",
            "tf.Tensor(\n",
            "[[1 2 3]\n",
            " [4 5 6]], shape=(2, 3), dtype=int32)\n",
            "tf.Tensor(\n",
            "[[1. 1. 1.]\n",
            " [1. 1. 1.]\n",
            " [1. 1. 1.]], shape=(3, 3), dtype=float32)\n"
          ]
        }
      ],
      "source": [
        "#initialization of tensorflow\n",
        "x = tf.constant(4) #creating a single nu of tensor\n",
        "print(x)\n",
        "\n",
        "x1 = tf.constant(4.0,shape=(1,1))#we can assign a shape\n",
        "print(x1)\n",
        "\n",
        "x2 = tf.constant(4,shape=(1,1), dtype=\"float32\")#we can give the datatype to the tensor\n",
        "print(x2)\n",
        "\n",
        "x3 = tf.constant([[1,2,3],[4,5,6]])\n",
        "print(x3)\n",
        "\n",
        "x4= tf.ones((3,3))\n",
        "print(x4)"
      ]
    },
    {
      "cell_type": "code",
      "source": [
        "x5 = tf.zeros((2,3)) #creating a zeros matrix which is 2 by 3\n",
        "print(x5)\n",
        "\n",
        "x6 = tf.eye(4) #identity matrix of 4-rows and 4-col\n",
        "print(x6)"
      ],
      "metadata": {
        "colab": {
          "base_uri": "https://localhost:8080/"
        },
        "id": "c4rfMjt_BoNb",
        "outputId": "d6afc22d-a0cb-4da6-ef0a-0e0937ad841a"
      },
      "execution_count": null,
      "outputs": [
        {
          "output_type": "stream",
          "name": "stdout",
          "text": [
            "tf.Tensor(\n",
            "[[0. 0. 0.]\n",
            " [0. 0. 0.]], shape=(2, 3), dtype=float32)\n",
            "tf.Tensor(\n",
            "[[1. 0. 0. 0.]\n",
            " [0. 1. 0. 0.]\n",
            " [0. 0. 1. 0.]\n",
            " [0. 0. 0. 1.]], shape=(4, 4), dtype=float32)\n"
          ]
        }
      ]
    },
    {
      "cell_type": "code",
      "source": [
        "x7 = tf.random.normal((3,3), mean=0, stddev=1) #creating a tensor with -1 to 1 range of distributions\n",
        "print(x7)\n",
        "\n",
        "x8 = tf.random.uniform((2,3), minval = 1, maxval=5) #uniform dit. tensor with the min value is 1 and max value is 5\n",
        "print(x8)\n",
        "\n",
        "x9 = tf.range(9)\n",
        "print(x9)\n",
        "\n",
        "x10 = tf.range(start=1, limit=10, delta=2) #creating a tensor a like start from 1 and limit means end to 10, and the steps it take as 2\n",
        "print(x10)\n",
        "#we can change the data type of the tensor\n",
        "x10 = tf.cast(x10,dtype=\"float64\")\n",
        "print(x10)"
      ],
      "metadata": {
        "colab": {
          "base_uri": "https://localhost:8080/"
        },
        "id": "kRI9LMjoBoVD",
        "outputId": "0eb2f727-60b7-4aba-eef4-59961e6d5483"
      },
      "execution_count": null,
      "outputs": [
        {
          "output_type": "stream",
          "name": "stdout",
          "text": [
            "tf.Tensor(\n",
            "[[ 0.73386323 -1.5232878   0.5710439 ]\n",
            " [-0.7550891   1.5444793  -0.29661912]\n",
            " [-0.3386282   1.4832234   0.24345927]], shape=(3, 3), dtype=float32)\n",
            "tf.Tensor(\n",
            "[[1.9513283 1.470676  3.5095406]\n",
            " [1.7508388 2.5139556 4.618115 ]], shape=(2, 3), dtype=float32)\n",
            "tf.Tensor([0 1 2 3 4 5 6 7 8], shape=(9,), dtype=int32)\n",
            "tf.Tensor([1 3 5 7 9], shape=(5,), dtype=int32)\n",
            "tf.Tensor([1. 3. 5. 7. 9.], shape=(5,), dtype=float64)\n"
          ]
        }
      ]
    },
    {
      "cell_type": "code",
      "source": [
        "#mathematical operations\n",
        "a = tf.constant([1,2,3])\n",
        "b = tf.constant([9,8,7])\n",
        "z = tf.add(a,b) #z = a+b\n",
        "print(z)\n",
        "\n",
        "z1 = tf.subtract(a,b) #z1 = a-b\n",
        "print(z1)\n",
        "\n",
        "z2 = tf.divide(a,b) # z2 = a/b\n",
        "print(z2)\n",
        "\n",
        "z3 = tf.multiply(a,b) # z3 = a*b\n",
        "print(z3)\n",
        "\n",
        "z4 = tf.tensordot(a,b, axes=1)\n",
        "print(z4)\n",
        "z4 = tf.tensordot(a,b, axes=0)\n",
        "print(z4)\n",
        "\n",
        "z5 = a ** 5 # its just like 1^5, 2^5, 3^5\n",
        "print(z5)\n",
        "\n",
        "#matrix multiplication\n",
        "v = tf.random.normal((2,3))\n",
        "u = tf.random.normal((3,4))\n",
        "print(v)\n",
        "print(u)\n",
        "z6 = tf.matmul(v,u)\n",
        "print(z6)\n",
        "print(v @ u) #both are doing same operations\n"
      ],
      "metadata": {
        "colab": {
          "base_uri": "https://localhost:8080/"
        },
        "id": "7Gd6pjERCPPp",
        "outputId": "448ed527-b55c-4602-e033-c4c0cdb0bfe1"
      },
      "execution_count": null,
      "outputs": [
        {
          "output_type": "stream",
          "name": "stdout",
          "text": [
            "tf.Tensor([10 10 10], shape=(3,), dtype=int32)\n",
            "tf.Tensor([-8 -6 -4], shape=(3,), dtype=int32)\n",
            "tf.Tensor([0.11111111 0.25       0.42857143], shape=(3,), dtype=float64)\n",
            "tf.Tensor([ 9 16 21], shape=(3,), dtype=int32)\n",
            "tf.Tensor(46, shape=(), dtype=int32)\n",
            "tf.Tensor(\n",
            "[[ 9  8  7]\n",
            " [18 16 14]\n",
            " [27 24 21]], shape=(3, 3), dtype=int32)\n",
            "tf.Tensor([  1  32 243], shape=(3,), dtype=int32)\n",
            "tf.Tensor(\n",
            "[[ 0.60410774  0.70117253  0.7329451 ]\n",
            " [-1.4088696  -0.59408367  2.163484  ]], shape=(2, 3), dtype=float32)\n",
            "tf.Tensor(\n",
            "[[ 1.5663011   0.8120568  -0.04453919 -2.8746526 ]\n",
            " [ 1.8126156   2.043417    0.08288058  0.41246757]\n",
            " [ 0.5526243   0.44084102  0.5273858  -0.41925338]], shape=(3, 4), dtype=float32)\n",
            "tf.Tensor(\n",
            "[[ 2.6222143  2.24647    0.4177519 -1.7546787]\n",
            " [-2.0879655 -1.4042902  1.1545026  2.8979225]], shape=(2, 4), dtype=float32)\n",
            "tf.Tensor(\n",
            "[[ 2.6222143  2.24647    0.4177519 -1.7546787]\n",
            " [-2.0879655 -1.4042902  1.1545026  2.8979225]], shape=(2, 4), dtype=float32)\n"
          ]
        }
      ]
    },
    {
      "cell_type": "code",
      "source": [
        "#indexing of tensor\n",
        "s = tf.constant([0, 1, 1, 2, 3, 1, 2, 3])\n",
        "print(s[:])#printing all the element\n",
        "print(s[1:]) #start from 1index to all\n",
        "print(s[1:3]) # start form 1 to end index-1\n",
        "print(s[::-1]) #reverse order\n",
        "\n",
        "#we can print the multiple value of index given indexes\n",
        "indices = tf.constant([1,4,5]) # 1,4 and 5 indexes values\n",
        "s_inx = tf.gather(s, indices)\n",
        "print(s_inx)  "
      ],
      "metadata": {
        "colab": {
          "base_uri": "https://localhost:8080/"
        },
        "id": "T3kjH-_FCPWv",
        "outputId": "6444c047-ab78-4c58-dfda-23af292f38a7"
      },
      "execution_count": null,
      "outputs": [
        {
          "output_type": "stream",
          "name": "stdout",
          "text": [
            "tf.Tensor([0 1 1 2 3 1 2 3], shape=(8,), dtype=int32)\n",
            "tf.Tensor([1 1 2 3 1 2 3], shape=(7,), dtype=int32)\n",
            "tf.Tensor([1 1], shape=(2,), dtype=int32)\n",
            "tf.Tensor([3 2 1 3 2 1 1 0], shape=(8,), dtype=int32)\n",
            "tf.Tensor([1 3 1], shape=(3,), dtype=int32)\n"
          ]
        }
      ]
    },
    {
      "cell_type": "code",
      "source": [
        "#basic reshaping of index\n",
        "d = tf.range(9)\n",
        "print(d)\n",
        "d1 = tf.reshape(d , (3,3))\n",
        "print(d1)"
      ],
      "metadata": {
        "colab": {
          "base_uri": "https://localhost:8080/"
        },
        "id": "NGSUlF6tCPbv",
        "outputId": "3d910d00-4662-4235-9eab-a346e818213e"
      },
      "execution_count": null,
      "outputs": [
        {
          "output_type": "stream",
          "name": "stdout",
          "text": [
            "tf.Tensor([0 1 2 3 4 5 6 7 8], shape=(9,), dtype=int32)\n",
            "tf.Tensor(\n",
            "[[0 1 2]\n",
            " [3 4 5]\n",
            " [6 7 8]], shape=(3, 3), dtype=int32)\n"
          ]
        }
      ]
    },
    {
      "cell_type": "code",
      "source": [],
      "metadata": {
        "id": "p4RSCt7iCPgB"
      },
      "execution_count": null,
      "outputs": []
    },
    {
      "cell_type": "code",
      "source": [],
      "metadata": {
        "id": "AspqyD03CPjo"
      },
      "execution_count": null,
      "outputs": []
    },
    {
      "cell_type": "code",
      "source": [],
      "metadata": {
        "id": "lZf6PvSkCPmw"
      },
      "execution_count": null,
      "outputs": []
    },
    {
      "cell_type": "code",
      "source": [],
      "metadata": {
        "id": "vuIPV0OcBobx"
      },
      "execution_count": null,
      "outputs": []
    },
    {
      "cell_type": "code",
      "source": [],
      "metadata": {
        "id": "rrjeRkDHBogb"
      },
      "execution_count": null,
      "outputs": []
    }
  ]
}